{
  "nbformat": 4,
  "nbformat_minor": 0,
  "metadata": {
    "colab": {
      "provenance": []
    },
    "kernelspec": {
      "name": "python3",
      "display_name": "Python 3"
    },
    "language_info": {
      "name": "python"
    }
  },
  "cells": [
    {
      "cell_type": "code",
      "execution_count": null,
      "metadata": {
        "id": "fYMX8pp27OAI"
      },
      "outputs": [],
      "source": [
        "from hashlib import sha256"
      ]
    },
    {
      "cell_type": "code",
      "source": [
        "def updatehash(*args):\n",
        "  hashing_text = \"\"\n",
        "  h = sha256()\n",
        "#loop through each argument and hash\n",
        "  for arg in args:\n",
        "    hashing_text += str(arg)\n",
        "  h.update(hashing_text.encode('utf-8'))\n",
        "  return h.hexdigest()"
      ],
      "metadata": {
        "id": "Weu3Jftf7Yag"
      },
      "execution_count": null,
      "outputs": []
    },
    {
      "cell_type": "code",
      "source": [
        "class Block():\n",
        "  def __init__(self, number=8, previous_hash=\"0\"*64, data=None, nonce=0):\n",
        "    self.data = data\n",
        "    self.number = number\n",
        "    self.previous_hash = previous_hash\n",
        "    self.nonce = nonce\n",
        "\n",
        "  def hash(self):\n",
        "    return updatehash (\n",
        "    self.number,\n",
        "    self.previous_hash,\n",
        "    self.data,\n",
        "    self.nonce\n",
        "    )\n",
        "\n",
        "  def __str__(self):\n",
        "    return f\"Block#: {self.number}\\nHash: {self.hash()}\\nPrevious: {self.previous_hash}\\nData: {self.data}\\nNonce: {self.nonce}\\n\"\n"
      ],
      "metadata": {
        "id": "pIomvaSP7qwk"
      },
      "execution_count": null,
      "outputs": []
    },
    {
      "cell_type": "code",
      "source": [
        "class Blockchain():\n",
        " difficulty = 4\n",
        " def __init__(self):\n",
        "   self.chain = []\n",
        " def add(self, block):\n",
        "   self.chain.append(block)\n",
        " def remove(self, block):\n",
        "   self.chain.remove(block)\n",
        " def mine(self, block):\n",
        "   try:\n",
        "     block.previous_hash = self.chain[-1].hash()\n",
        "   except IndexError:\n",
        "     pass\n",
        "   while True:\n",
        "     if block.hash()[:self.difficulty] == \"0\" * self.difficulty:\n",
        "       self.add(block)\n",
        "       break\n",
        "     else:\n",
        "       block.nonce += 1\n",
        " def isValid(self):\n",
        "   for i in range(1, len(self.chain)):\n",
        "     _previous = self.chain[i].previous_hash\n",
        "     _current = self.chain[i - 1].hash()\n",
        "     if _previous != _current or _current[:self.difficulty] != \"0\" * self.difficulty:\n",
        "       return False\n",
        "   return True\n"
      ],
      "metadata": {
        "id": "jMXI94_u8MJ9"
      },
      "execution_count": null,
      "outputs": []
    },
    {
      "cell_type": "code",
      "source": [
        "def main():\n",
        "  blockchain = Blockchain()\n",
        "  database = [\"hello\", \"goodbye\", \"test\", \"DATA here\"]\n",
        "  num = 0\n",
        "  for data in database:\n",
        "    num += 1\n",
        "    blockchain.mine(Block(num, data=data))\n",
        "  for block in blockchain.chain:\n",
        "    print(block)\n",
        "  print(blockchain.isValid())\n",
        "  blockchain.chain [2].data = \"NEW DATA\"\n",
        "  blockchain.mine(blockchain.chain[2])\n",
        "  print(blockchain.isValid())\n",
        "if __name__ == '__main__':\n",
        "  main()"
      ],
      "metadata": {
        "colab": {
          "base_uri": "https://localhost:8080/"
        },
        "id": "UBs_vv_a9Dye",
        "outputId": "d698b76e-3156-45c9-f602-20ca99018bbc"
      },
      "execution_count": null,
      "outputs": [
        {
          "output_type": "stream",
          "name": "stdout",
          "text": [
            "Block#: 1\n",
            "Hash: 0000406727e818ab11b69f4cfa71db66e3a98c8fe25eddd006b46645ccc4b662\n",
            "Previous: 0000000000000000000000000000000000000000000000000000000000000000\n",
            "Data: hello\n",
            "Nonce: 73572\n",
            "\n",
            "Block#: 2\n",
            "Hash: 00009ada0786defab4ed27acaa757fecb32289c3906adb2467e34f1023b5ef2e\n",
            "Previous: 0000406727e818ab11b69f4cfa71db66e3a98c8fe25eddd006b46645ccc4b662\n",
            "Data: goodbye\n",
            "Nonce: 152605\n",
            "\n",
            "Block#: 3\n",
            "Hash: 0000becf90af710881d1ffc286d79ecb1315fb062a3123591a3ac9ef87067e57\n",
            "Previous: 00009ada0786defab4ed27acaa757fecb32289c3906adb2467e34f1023b5ef2e\n",
            "Data: test\n",
            "Nonce: 182395\n",
            "\n",
            "Block#: 4\n",
            "Hash: 0000be3fdaa4642954fbb6c96688c060ae8f5b96d6199449cf665d252cd53d22\n",
            "Previous: 0000becf90af710881d1ffc286d79ecb1315fb062a3123591a3ac9ef87067e57\n",
            "Data: DATA here\n",
            "Nonce: 160170\n",
            "\n",
            "True\n",
            "False\n"
          ]
        }
      ]
    }
  ]
}